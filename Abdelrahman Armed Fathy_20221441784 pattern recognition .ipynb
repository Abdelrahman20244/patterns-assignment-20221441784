{
 "cells": [
  {
   "cell_type": "markdown",
   "id": "73efddab",
   "metadata": {},
   "source": [
    "| Name                                      | ID           |\n",
    "|-------------------------------------------|--------------|\n",
    "| Abdelrhman Ahmed Fathy Abdelaziz         | 20221441784  |\n"
   ]
  },
  {
   "cell_type": "code",
   "execution_count": 1,
   "id": "21222410",
   "metadata": {},
   "outputs": [],
   "source": [
    "import pandas as pd\n",
    "from sklearn.model_selection import train_test_split\n",
    "from sklearn.naive_bayes import GaussianNB\n",
    "from sklearn.metrics import confusion_matrix\n",
    "\n",
    "\n",
    "# Define the URL from which data will be imported\n",
    "url = \"https://archive.ics.uci.edu/ml/machine-learning-databases/adult/adult.data\"\n",
    "# Define column names for the dataset\n",
    "columns = [\n",
    "    \"age\", \"workclass\", \"fnlwgt\", \"education\", \"education-num\", \"marital-status\",\n",
    "    \"occupation\", \"relationship\", \"race\", \"sex\", \"capital-gain\", \"capital-loss\",\n",
    "    \"hours-per-week\", \"native-country\", \"income\"\n",
    "]\n",
    "# Read data from the specified URL into a pandas DataFrame\n",
    "# na_values=' ?' specifies that any occurrence of ' ?' in the data should be treated as NaN\n",
    "# skipinitialspace=True skips any initial spaces after delimiter in each line\n",
    "data = pd.read_csv(url, names=columns, na_values=' ?', skipinitialspace=True)"
   ]
  },
  {
   "cell_type": "markdown",
   "id": "d8fa09d4",
   "metadata": {},
   "source": [
    "# Data preprocessing "
   ]
  },
  {
   "cell_type": "code",
   "execution_count": 2,
   "id": "7db6e162",
   "metadata": {},
   "outputs": [],
   "source": [
    "# Drop rows with missing values\n",
    "data = data.dropna()\n",
    "# Encode categorical variables\n",
    "data = pd.get_dummies(data, columns=[\"workclass\", \"education\", \"marital-status\", \"occupation\", \"relationship\", \"race\", \"sex\", \"native-country\"])\n",
    "# Map income to binary values (0 for <=50K, 1 for >50K)\n",
    "#This step converts the income column into binary labels for classification\n",
    "data['income'] = data['income'].map({'<=50K': 0, '>50K': 1})\n",
    "\n",
    "# Split data into features (X) and target variable (y)\n",
    "X = data.drop('income', axis=1)# Features (independent variables)\n",
    "y = data['income']  # Target variable (dependent variable)"
   ]
  },
  {
   "cell_type": "markdown",
   "id": "3fa220a0",
   "metadata": {},
   "source": [
    "# Naive Bayes Classifier"
   ]
  },
  {
   "cell_type": "code",
   "execution_count": 3,
   "id": "67f8d6f5",
   "metadata": {},
   "outputs": [
    {
     "data": {
      "text/html": [
       "<style>#sk-container-id-1 {color: black;}#sk-container-id-1 pre{padding: 0;}#sk-container-id-1 div.sk-toggleable {background-color: white;}#sk-container-id-1 label.sk-toggleable__label {cursor: pointer;display: block;width: 100%;margin-bottom: 0;padding: 0.3em;box-sizing: border-box;text-align: center;}#sk-container-id-1 label.sk-toggleable__label-arrow:before {content: \"▸\";float: left;margin-right: 0.25em;color: #696969;}#sk-container-id-1 label.sk-toggleable__label-arrow:hover:before {color: black;}#sk-container-id-1 div.sk-estimator:hover label.sk-toggleable__label-arrow:before {color: black;}#sk-container-id-1 div.sk-toggleable__content {max-height: 0;max-width: 0;overflow: hidden;text-align: left;background-color: #f0f8ff;}#sk-container-id-1 div.sk-toggleable__content pre {margin: 0.2em;color: black;border-radius: 0.25em;background-color: #f0f8ff;}#sk-container-id-1 input.sk-toggleable__control:checked~div.sk-toggleable__content {max-height: 200px;max-width: 100%;overflow: auto;}#sk-container-id-1 input.sk-toggleable__control:checked~label.sk-toggleable__label-arrow:before {content: \"▾\";}#sk-container-id-1 div.sk-estimator input.sk-toggleable__control:checked~label.sk-toggleable__label {background-color: #d4ebff;}#sk-container-id-1 div.sk-label input.sk-toggleable__control:checked~label.sk-toggleable__label {background-color: #d4ebff;}#sk-container-id-1 input.sk-hidden--visually {border: 0;clip: rect(1px 1px 1px 1px);clip: rect(1px, 1px, 1px, 1px);height: 1px;margin: -1px;overflow: hidden;padding: 0;position: absolute;width: 1px;}#sk-container-id-1 div.sk-estimator {font-family: monospace;background-color: #f0f8ff;border: 1px dotted black;border-radius: 0.25em;box-sizing: border-box;margin-bottom: 0.5em;}#sk-container-id-1 div.sk-estimator:hover {background-color: #d4ebff;}#sk-container-id-1 div.sk-parallel-item::after {content: \"\";width: 100%;border-bottom: 1px solid gray;flex-grow: 1;}#sk-container-id-1 div.sk-label:hover label.sk-toggleable__label {background-color: #d4ebff;}#sk-container-id-1 div.sk-serial::before {content: \"\";position: absolute;border-left: 1px solid gray;box-sizing: border-box;top: 0;bottom: 0;left: 50%;z-index: 0;}#sk-container-id-1 div.sk-serial {display: flex;flex-direction: column;align-items: center;background-color: white;padding-right: 0.2em;padding-left: 0.2em;position: relative;}#sk-container-id-1 div.sk-item {position: relative;z-index: 1;}#sk-container-id-1 div.sk-parallel {display: flex;align-items: stretch;justify-content: center;background-color: white;position: relative;}#sk-container-id-1 div.sk-item::before, #sk-container-id-1 div.sk-parallel-item::before {content: \"\";position: absolute;border-left: 1px solid gray;box-sizing: border-box;top: 0;bottom: 0;left: 50%;z-index: -1;}#sk-container-id-1 div.sk-parallel-item {display: flex;flex-direction: column;z-index: 1;position: relative;background-color: white;}#sk-container-id-1 div.sk-parallel-item:first-child::after {align-self: flex-end;width: 50%;}#sk-container-id-1 div.sk-parallel-item:last-child::after {align-self: flex-start;width: 50%;}#sk-container-id-1 div.sk-parallel-item:only-child::after {width: 0;}#sk-container-id-1 div.sk-dashed-wrapped {border: 1px dashed gray;margin: 0 0.4em 0.5em 0.4em;box-sizing: border-box;padding-bottom: 0.4em;background-color: white;}#sk-container-id-1 div.sk-label label {font-family: monospace;font-weight: bold;display: inline-block;line-height: 1.2em;}#sk-container-id-1 div.sk-label-container {text-align: center;}#sk-container-id-1 div.sk-container {/* jupyter's `normalize.less` sets `[hidden] { display: none; }` but bootstrap.min.css set `[hidden] { display: none !important; }` so we also need the `!important` here to be able to override the default hidden behavior on the sphinx rendered scikit-learn.org. See: https://github.com/scikit-learn/scikit-learn/issues/21755 */display: inline-block !important;position: relative;}#sk-container-id-1 div.sk-text-repr-fallback {display: none;}</style><div id=\"sk-container-id-1\" class=\"sk-top-container\"><div class=\"sk-text-repr-fallback\"><pre>GaussianNB()</pre><b>In a Jupyter environment, please rerun this cell to show the HTML representation or trust the notebook. <br />On GitHub, the HTML representation is unable to render, please try loading this page with nbviewer.org.</b></div><div class=\"sk-container\" hidden><div class=\"sk-item\"><div class=\"sk-estimator sk-toggleable\"><input class=\"sk-toggleable__control sk-hidden--visually\" id=\"sk-estimator-id-1\" type=\"checkbox\" checked><label for=\"sk-estimator-id-1\" class=\"sk-toggleable__label sk-toggleable__label-arrow\">GaussianNB</label><div class=\"sk-toggleable__content\"><pre>GaussianNB()</pre></div></div></div></div></div>"
      ],
      "text/plain": [
       "GaussianNB()"
      ]
     },
     "execution_count": 3,
     "metadata": {},
     "output_type": "execute_result"
    }
   ],
   "source": [
    "# Split the data into training and testing sets\n",
    "# 20% for testing,80% for training\n",
    "X_train, X_test, y_train, y_test = train_test_split(X, y, test_size=0.2, random_state=42)\n",
    "\n",
    "# Initialize a Naive Bayes classifier (Gaussian Naive Bayes in this case)\n",
    "nb_classifier = GaussianNB()\n",
    "\n",
    "# Train the Naive Bayes classifier using the training data\n",
    "nb_classifier.fit(X_train, y_train)\n"
   ]
  },
  {
   "cell_type": "markdown",
   "id": "35db8915",
   "metadata": {},
   "source": [
    "# Computation OF Sensitivity and Specificity"
   ]
  },
  {
   "cell_type": "code",
   "execution_count": 4,
   "id": "0f4717ef",
   "metadata": {},
   "outputs": [
    {
     "name": "stdout",
     "output_type": "stream",
     "text": [
      "Sensitivity: 0.32017823042647997\n",
      "Specificity: 0.9514366653176851\n"
     ]
    }
   ],
   "source": [
    "# Use Naive Bayes classifier to make predictions on the test data\n",
    "y_pred = nb_classifier.predict(X_test)\n",
    "# Compute confusion matrix to evaluate the performance of the classifier\n",
    "# It summarizes the number of correct and incorrect predictions made by the classifier\n",
    "# tn = true negative, fp = false positive, fn = false negative, tp = true positive\n",
    "tn, fp, fn, tp = confusion_matrix(y_test, y_pred).ravel()\n",
    "sensitivity = tp / (tp + fn)\n",
    "specificity = tn / (tn + fp)\n",
    "print(\"Sensitivity:\", sensitivity)\n",
    "print(\"Specificity:\", specificity)"
   ]
  },
  {
   "cell_type": "markdown",
   "id": "94250254",
   "metadata": {},
   "source": [
    "# Sensitivity (True Positive Rate) \n",
    "0.32017823042647997 (approximately 32.02%)\n",
    "### This means \n",
    "The classifier correctly identified about 32.02% of individuals who actually earn over 50K a year (positive instances).\n",
    "\n",
    "# Specificity (True Negative Rate) \n",
    "0.9514366653176851 (approximately 95.14%)\n",
    "### This means \n",
    "The classifier correctly identified about 95.14% of individuals who actually earn less than or equal to 50K a year (negative instances)."
   ]
  },
  {
   "cell_type": "markdown",
   "id": "15be8d42",
   "metadata": {},
   "source": [
    "# Posterior Probability\n",
    "Extract the probability of the positive class (income >50K) from the posterior probabilities"
   ]
  },
  {
   "cell_type": "code",
   "execution_count": 5,
   "id": "3bd19516",
   "metadata": {},
   "outputs": [
    {
     "name": "stdout",
     "output_type": "stream",
     "text": [
      "Posterior Probability of making over 50K a year: [4.31088775e-03 1.37859620e-02 1.71229441e-02 ... 1.00000000e+00\n",
      " 6.39925511e-03 6.53278628e-04]\n"
     ]
    }
   ],
   "source": [
    "# Use Naive Bayes classifier to predict probabilities for each class in the test data\n",
    "posterior_probs = nb_classifier.predict_proba(X_test)\n",
    "# Extract the probability of the positive class (income >50K) from the posterior probabilities\n",
    "positive_class_probs = posterior_probs[:, 1] \n",
    "print(\"Posterior Probability of making over 50K a year:\", positive_class_probs)"
   ]
  },
  {
   "cell_type": "markdown",
   "id": "d5a2eb76",
   "metadata": {},
   "source": [
    "- Probabilities closer to 1 indicate a higher likelihood that the individual earns over 50K a year.\n",
    "- Probabilities closer to 0 indicate a lower likelihood that the individual earns over 50K a year.\n",
    "Instances with higher probabilities are more confidently predicted to belong to the positive class (income >50K), while instances with lower probabilities may have higher uncertainty associated with their predictions."
   ]
  },
  {
   "cell_type": "code",
   "execution_count": null,
   "id": "d5056653",
   "metadata": {},
   "outputs": [],
   "source": []
  }
 ],
 "metadata": {
  "kernelspec": {
   "display_name": "Python 3 (ipykernel)",
   "language": "python",
   "name": "python3"
  },
  "language_info": {
   "codemirror_mode": {
    "name": "ipython",
    "version": 3
   },
   "file_extension": ".py",
   "mimetype": "text/x-python",
   "name": "python",
   "nbconvert_exporter": "python",
   "pygments_lexer": "ipython3",
   "version": "3.9.13"
  }
 },
 "nbformat": 4,
 "nbformat_minor": 5
}
